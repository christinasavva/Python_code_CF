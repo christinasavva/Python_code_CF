{
 "cells": [
  {
   "cell_type": "markdown",
   "id": "81b610ee",
   "metadata": {},
   "source": [
    "# 4.9.1 Create a new notebook, import the necessary analysis and visualization libraries, then import your most up-to-date project data (i.e., the data set with your new customer data from the first part of this task)."
   ]
  },
  {
   "cell_type": "code",
   "execution_count": 1,
   "id": "0d3c4a2a",
   "metadata": {},
   "outputs": [],
   "source": [
    "import pandas as pd\n",
    "import numpy as np\n",
    "import os\n",
    "import matplotlib.pyplot as plt\n",
    "import seaborn as sns\n",
    "import scipy"
   ]
  },
  {
   "cell_type": "code",
   "execution_count": 2,
   "id": "922564f9",
   "metadata": {},
   "outputs": [],
   "source": [
    "df = pd.read_pickle(r'C:\\Users\\christina.savva\\Documents\\CF Achievement 4 - Instacart Basket Analysis\\02 Data\\Prepared Data\\49_output.pkl')"
   ]
  },
  {
   "cell_type": "code",
   "execution_count": 3,
   "id": "cefbe402",
   "metadata": {},
   "outputs": [],
   "source": [
    "path = r'C:\\Users\\christina.savva\\Documents\\CF Achievement 4 - Instacart Basket Analysis'"
   ]
  },
  {
   "cell_type": "code",
   "execution_count": 4,
   "id": "33f7f725",
   "metadata": {},
   "outputs": [
    {
     "name": "stdout",
     "output_type": "stream",
     "text": [
      "<class 'pandas.core.frame.DataFrame'>\n",
      "Int64Index: 32404859 entries, 0 to 32404858\n",
      "Data columns (total 34 columns):\n",
      " #   Column                  Dtype   \n",
      "---  ------                  -----   \n",
      " 0   order_id                object  \n",
      " 1   user_id                 object  \n",
      " 2   eval_set                object  \n",
      " 3   order_number            int8    \n",
      " 4   orders_day_of_week      int8    \n",
      " 5   order_hour_of_day       int8    \n",
      " 6   days_since_prior_order  float64 \n",
      " 7   first_order             object  \n",
      " 8   product_id              int16   \n",
      " 9   reordered               int8    \n",
      " 10  product_name            object  \n",
      " 11  aisle_id                int8    \n",
      " 12  department_id           int8    \n",
      " 13  prices                  float64 \n",
      " 14  price_range_loc         object  \n",
      " 15  busiest_day             object  \n",
      " 16  busiest_days            object  \n",
      " 17  busiest_period_of_day   object  \n",
      " 18  max_order               int8    \n",
      " 19  loyalty_flag            object  \n",
      " 20  spend_group             float64 \n",
      " 21  spend_flag              object  \n",
      " 22  order_frequency         float64 \n",
      " 23  frequency_flag          object  \n",
      " 24  first_name              object  \n",
      " 25  surname                 object  \n",
      " 26  gender                  object  \n",
      " 27  state                   object  \n",
      " 28  age                     int8    \n",
      " 29  date_joined             object  \n",
      " 30  children                int8    \n",
      " 31  family_status           object  \n",
      " 32  income                  int32   \n",
      " 33  _merge                  category\n",
      "dtypes: category(1), float64(4), int16(1), int32(1), int8(9), object(18)\n",
      "memory usage: 6.0+ GB\n"
     ]
    }
   ],
   "source": [
    "df.info()"
   ]
  },
  {
   "cell_type": "markdown",
   "id": "19022fe4",
   "metadata": {},
   "source": [
    "# 4.9.2 If you haven’t done so already, follow the instructions in the Exercise to create a bar chart, a histogram, a scatterplot, and a line chart, using a sample subset for the line chart."
   ]
  },
  {
   "cell_type": "code",
   "execution_count": 7,
   "id": "fa8d05a0",
   "metadata": {},
   "outputs": [],
   "source": [
    "np.random.seed(4)\n",
    "dev = np.random.rand(len(df)) <= 0.7  #  creating a list holding True/False to the test nprandon.rant() <= 0.7"
   ]
  },
  {
   "cell_type": "code",
   "execution_count": 9,
   "id": "79f7806d",
   "metadata": {},
   "outputs": [],
   "source": [
    "big = df[dev]  #  stores 70% of the sample in DF big"
   ]
  },
  {
   "cell_type": "code",
   "execution_count": 10,
   "id": "8c5d404a",
   "metadata": {},
   "outputs": [],
   "source": [
    "small = df[~dev]  #  stores 30% of the sample in DF small"
   ]
  },
  {
   "cell_type": "code",
   "execution_count": 11,
   "id": "34f167ae",
   "metadata": {},
   "outputs": [
    {
     "data": {
      "text/plain": [
       "32404859"
      ]
     },
     "execution_count": 11,
     "metadata": {},
     "output_type": "execute_result"
    }
   ],
   "source": [
    "len(df)  #  checking number of rows\n"
   ]
  },
  {
   "cell_type": "code",
   "execution_count": 12,
   "id": "49bf6abc",
   "metadata": {},
   "outputs": [
    {
     "data": {
      "text/plain": [
       "32404859"
      ]
     },
     "execution_count": 12,
     "metadata": {},
     "output_type": "execute_result"
    }
   ],
   "source": [
    "len(big) + len(small)"
   ]
  },
  {
   "cell_type": "code",
   "execution_count": 13,
   "id": "e89c5f56",
   "metadata": {},
   "outputs": [],
   "source": [
    "df_2 = small  #  I will use the smaller sample in order to save memory"
   ]
  },
  {
   "cell_type": "code",
   "execution_count": 14,
   "id": "337e5999",
   "metadata": {},
   "outputs": [
    {
     "name": "stdout",
     "output_type": "stream",
     "text": [
      "<class 'pandas.core.frame.DataFrame'>\n",
      "Int64Index: 9721098 entries, 0 to 32404850\n",
      "Data columns (total 34 columns):\n",
      " #   Column                  Dtype   \n",
      "---  ------                  -----   \n",
      " 0   order_id                object  \n",
      " 1   user_id                 object  \n",
      " 2   eval_set                object  \n",
      " 3   order_number            int8    \n",
      " 4   orders_day_of_week      int8    \n",
      " 5   order_hour_of_day       int8    \n",
      " 6   days_since_prior_order  float64 \n",
      " 7   first_order             object  \n",
      " 8   product_id              int16   \n",
      " 9   reordered               int8    \n",
      " 10  product_name            object  \n",
      " 11  aisle_id                int8    \n",
      " 12  department_id           int8    \n",
      " 13  prices                  float64 \n",
      " 14  price_range_loc         object  \n",
      " 15  busiest_day             object  \n",
      " 16  busiest_days            object  \n",
      " 17  busiest_period_of_day   object  \n",
      " 18  max_order               int8    \n",
      " 19  loyalty_flag            object  \n",
      " 20  spend_group             float64 \n",
      " 21  spend_flag              object  \n",
      " 22  order_frequency         float64 \n",
      " 23  frequency_flag          object  \n",
      " 24  first_name              object  \n",
      " 25  surname                 object  \n",
      " 26  gender                  object  \n",
      " 27  state                   object  \n",
      " 28  age                     int8    \n",
      " 29  date_joined             object  \n",
      " 30  children                int8    \n",
      " 31  family_status           object  \n",
      " 32  income                  int32   \n",
      " 33  _merge                  category\n",
      "dtypes: category(1), float64(4), int16(1), int32(1), int8(9), object(18)\n",
      "memory usage: 1.8+ GB\n"
     ]
    }
   ],
   "source": [
    "df_2.info()"
   ]
  },
  {
   "cell_type": "code",
   "execution_count": 15,
   "id": "0b211af0",
   "metadata": {},
   "outputs": [
    {
     "data": {
      "text/plain": [
       "_merge\n",
       "both          9721098\n",
       "left_only           0\n",
       "right_only          0\n",
       "dtype: int64"
      ]
     },
     "execution_count": 15,
     "metadata": {},
     "output_type": "execute_result"
    }
   ],
   "source": [
    "df_2.value_counts('_merge')"
   ]
  },
  {
   "cell_type": "code",
   "execution_count": 18,
   "id": "e1d8f024",
   "metadata": {},
   "outputs": [],
   "source": [
    "df_2 = df_2.drop (columns = ['_merge'])"
   ]
  },
  {
   "cell_type": "code",
   "execution_count": 19,
   "id": "121d1466",
   "metadata": {},
   "outputs": [
    {
     "name": "stdout",
     "output_type": "stream",
     "text": [
      "<class 'pandas.core.frame.DataFrame'>\n",
      "Int64Index: 9721098 entries, 0 to 32404850\n",
      "Data columns (total 33 columns):\n",
      " #   Column                  Dtype  \n",
      "---  ------                  -----  \n",
      " 0   order_id                object \n",
      " 1   user_id                 object \n",
      " 2   eval_set                object \n",
      " 3   order_number            int8   \n",
      " 4   orders_day_of_week      int8   \n",
      " 5   order_hour_of_day       int8   \n",
      " 6   days_since_prior_order  float64\n",
      " 7   first_order             object \n",
      " 8   product_id              int16  \n",
      " 9   reordered               int8   \n",
      " 10  product_name            object \n",
      " 11  aisle_id                int8   \n",
      " 12  department_id           int8   \n",
      " 13  prices                  float64\n",
      " 14  price_range_loc         object \n",
      " 15  busiest_day             object \n",
      " 16  busiest_days            object \n",
      " 17  busiest_period_of_day   object \n",
      " 18  max_order               int8   \n",
      " 19  loyalty_flag            object \n",
      " 20  spend_group             float64\n",
      " 21  spend_flag              object \n",
      " 22  order_frequency         float64\n",
      " 23  frequency_flag          object \n",
      " 24  first_name              object \n",
      " 25  surname                 object \n",
      " 26  gender                  object \n",
      " 27  state                   object \n",
      " 28  age                     int8   \n",
      " 29  date_joined             object \n",
      " 30  children                int8   \n",
      " 31  family_status           object \n",
      " 32  income                  int32  \n",
      "dtypes: float64(4), int16(1), int32(1), int8(9), object(18)\n",
      "memory usage: 2.1+ GB\n"
     ]
    }
   ],
   "source": [
    "df_2.info()"
   ]
  },
  {
   "cell_type": "markdown",
   "id": "203b854e",
   "metadata": {},
   "source": [
    "# 4.9.3 You need to provide the Instacart senior stakeholders with descriptive findings about sales. Create a histogram of the “order_hour_of_day” column. In a markdown cell beneath your histogram, describe what the histogram demonstrates."
   ]
  },
  {
   "cell_type": "code",
   "execution_count": 36,
   "id": "954639c2",
   "metadata": {},
   "outputs": [
    {
     "data": {
      "image/png": "[encoded data removed]",
      "text/plain": [
       "<Figure size 432x288 with 1 Axes>"
      ]
     },
     "metadata": {
      "needs_background": "light"
     },
     "output_type": "display_data"
    }
   ],
   "source": [
    "bar = df_2['order_hour_of_day'].plot.hist(bins = 24)  #  creating 24 bins to reflect each hour of the day"
   ]
  },
  {
   "cell_type": "markdown",
   "id": "8738e9d3",
   "metadata": {},
   "source": [
    "The peak hours for orders are between 9am and 4pm, which a sharp rise from 6am and slow decline in the later afternoon and evening hours."
   ]
  },
  {
   "cell_type": "markdown",
   "id": "7b17ea0f",
   "metadata": {},
   "source": [
    "# 4.9.4 The marketing team is curious about the distribution of orders among customers in terms of loyalty. Create a bar chart from the “loyalty_flag” column."
   ]
  },
  {
   "cell_type": "code",
   "execution_count": 22,
   "id": "bc3f9a1d",
   "metadata": {},
   "outputs": [
    {
     "data": {
      "text/plain": [
       "<AxesSubplot:>"
      ]
     },
     "execution_count": 22,
     "metadata": {},
     "output_type": "execute_result"
    },
    {
     "data": {
      "image/png": "[encoded data removed]",
      "text/plain": [
       "<Figure size 432x288 with 1 Axes>"
      ]
     },
     "metadata": {
      "needs_background": "light"
     },
     "output_type": "display_data"
    }
   ],
   "source": [
    "df_2['loyalty_flag'].value_counts().plot.bar()"
   ]
  },
  {
   "cell_type": "markdown",
   "id": "2ff8fb1a",
   "metadata": {},
   "source": [
    "The majority of customers are regular, followed by loyal customers (with over 40 orders) and the smallest group are new customers (with under 10 orders)."
   ]
  },
  {
   "cell_type": "markdown",
   "id": "30936023",
   "metadata": {},
   "source": [
    "# 4.9.5 Check whether there’s a difference in expenditure (the “prices” column) depending on the hour of the day. (Hint: To check this, you need to use an accurate sample for your line chart!)"
   ]
  },
  {
   "cell_type": "code",
   "execution_count": 25,
   "id": "32e4173c",
   "metadata": {},
   "outputs": [],
   "source": [
    "df_hours_prices = df_2[['order_hour_of_day','prices']]  #  picking the two relevant columns for the chart"
   ]
  },
  {
   "cell_type": "code",
   "execution_count": 39,
   "id": "4730f6ef",
   "metadata": {},
   "outputs": [
    {
     "data": {
      "image/png": "[encoded data removed]",
      "text/plain": [
       "<Figure size 432x288 with 1 Axes>"
      ]
     },
     "metadata": {
      "needs_background": "light"
     },
     "output_type": "display_data"
    }
   ],
   "source": [
    "line_order_hour_of_day_prices = sns.lineplot(data = df_hours_prices, x = 'order_hour_of_day',y = 'prices')"
   ]
  },
  {
   "cell_type": "markdown",
   "id": "dafa0b56",
   "metadata": {},
   "source": [
    "Expenditure at night appears to be peak whereas during the day it is relatively flat."
   ]
  },
  {
   "cell_type": "markdown",
   "id": "dacf6c86",
   "metadata": {},
   "source": [
    "# 4.9.6 Now that you have information about customers, you need to conduct some exploratory analysis of customer demographics to inform the targeted marketing campaigns. First, determine whether there’s a connection between age and family status by creating a line chart exploring the connections between age and number of dependents: In a markdown cell beneath your line chart, describe what the line chart shows."
   ]
  },
  {
   "cell_type": "code",
   "execution_count": 27,
   "id": "b18ec3b1",
   "metadata": {},
   "outputs": [],
   "source": [
    "df_age_children = df_2[['age','children']]  #  picking the two relevant columns for the chart"
   ]
  },
  {
   "cell_type": "code",
   "execution_count": 41,
   "id": "98be2d4e",
   "metadata": {},
   "outputs": [
    {
     "data": {
      "image/png": "[encoded data removed]",
      "text/plain": [
       "<Figure size 432x288 with 1 Axes>"
      ]
     },
     "metadata": {
      "needs_background": "light"
     },
     "output_type": "display_data"
    }
   ],
   "source": [
    "line_age_children = sns.lineplot(data = df_age_children, x = 'age',y = 'children')"
   ]
  },
  {
   "cell_type": "markdown",
   "id": "27f1446b",
   "metadata": {},
   "source": [
    "There is no correlation between the customer ages and the number of dependents they have."
   ]
  },
  {
   "cell_type": "markdown",
   "id": "9e35fb67",
   "metadata": {},
   "source": [
    "# You’ll also need to explore whether there’s a connection between age and spending power. To visualize this relationship, create a scatterplot using the sns.scatterplot() function. In a markdown cell beneath your scatterplot, describe what the scatterplot shows."
   ]
  },
  {
   "cell_type": "code",
   "execution_count": 44,
   "id": "3d8b3493",
   "metadata": {},
   "outputs": [
    {
     "data": {
      "image/png": "[encoded data removed]",
      "text/plain": [
       "<Figure size 432x288 with 1 Axes>"
      ]
     },
     "metadata": {
      "needs_background": "light"
     },
     "output_type": "display_data"
    }
   ],
   "source": [
    "scatterplot = sns.scatterplot(x = 'age', y = 'prices',data = df_2)"
   ]
  },
  {
   "cell_type": "markdown",
   "id": "18c5f1c3",
   "metadata": {},
   "source": [
    "There is no correlation between the customer ages and their spend."
   ]
  },
  {
   "cell_type": "markdown",
   "id": "d662ed20",
   "metadata": {},
   "source": [
    "# 4.9.8 Export your visualizations as “.png” files in your relevant project folder."
   ]
  },
  {
   "cell_type": "code",
   "execution_count": 38,
   "id": "5e6b9593",
   "metadata": {},
   "outputs": [],
   "source": [
    "bar.figure.savefig(os.path.join(path, '04 Analysis','Visualizations', 'bar_order_hour_of_day.png'))"
   ]
  },
  {
   "cell_type": "code",
   "execution_count": 40,
   "id": "bd619116",
   "metadata": {},
   "outputs": [],
   "source": [
    "line_order_hour_of_day_prices.figure.savefig(os.path.join(path, '04 Analysis','Visualizations', 'line_order_hour_of_day_prices.png'))"
   ]
  },
  {
   "cell_type": "code",
   "execution_count": 42,
   "id": "289034fa",
   "metadata": {},
   "outputs": [],
   "source": [
    "line_age_children.figure.savefig(os.path.join(path, '04 Analysis','Visualizations', 'line_age_children.png'))"
   ]
  },
  {
   "cell_type": "code",
   "execution_count": 45,
   "id": "72810334",
   "metadata": {},
   "outputs": [],
   "source": [
    "scatterplot.figure.savefig(os.path.join(path, '04 Analysis','Visualizations', 'scatterplot_age_price.png'))"
   ]
  },
  {
   "cell_type": "code",
   "execution_count": null,
   "id": "b8b809c1",
   "metadata": {},
   "outputs": [],
   "source": []
  }
 ],
 "metadata": {
  "kernelspec": {
   "display_name": "Python 3 (ipykernel)",
   "language": "python",
   "name": "python3"
  },
  "language_info": {
   "codemirror_mode": {
    "name": "ipython",
    "version": 3
   },
   "file_extension": ".py",
   "mimetype": "text/x-python",
   "name": "python",
   "nbconvert_exporter": "python",
   "pygments_lexer": "ipython3",
   "version": "3.9.7"
  }
 },
 "nbformat": 4,
 "nbformat_minor": 5
}
